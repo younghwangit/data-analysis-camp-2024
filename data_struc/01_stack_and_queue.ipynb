{
 "cells": [
  {
   "cell_type": "markdown",
   "id": "68e518c1-645e-4abc-a437-fce0077a26b0",
   "metadata": {
    "jp-MarkdownHeadingCollapsed": true
   },
   "source": [
    "### 스택\n",
    "- 선입후출\n",
    "- 먼저 들어온 데이터가 나중에 나가는 방식\n",
    "- 박스 쌓기를 이미지화하면 됨"
   ]
  },
  {
   "cell_type": "code",
   "execution_count": 2,
   "id": "ffb7a7db-88b9-4111-90a4-43db128800c3",
   "metadata": {},
   "outputs": [
    {
     "name": "stdout",
     "output_type": "stream",
     "text": [
      "[5, 2, 3, 1]\n",
      "[1, 3, 2, 5]\n"
     ]
    }
   ],
   "source": [
    "stack = [] # 빈 리스트 생성\n",
    "\n",
    "# 삽입(5) - 삽입(2) - 삽입(3) - 삽입(7) - 삭제()\n",
    "# 삽입(1) - 삽입(4) - 삭제()\n",
    "stack.append(5)\n",
    "stack.append(2)\n",
    "stack.append(3)\n",
    "stack.append(7)\n",
    "stack.pop() # 가장 최근 들어온 7이 삭제\n",
    "stack.append(1) \n",
    "stack.append(4)\n",
    "stack.pop() # 가장 최근 들어온 4가 삭제\n",
    "\n",
    "print(stack) #최하단의 원소부터 출력됨\n",
    "print(stack[::-1]) # 최상단의 원소부터 출력됨"
   ]
  },
  {
   "cell_type": "markdown",
   "id": "7b775d20-5429-436a-9654-351d7430a14e",
   "metadata": {
    "jp-MarkdownHeadingCollapsed": true
   },
   "source": [
    "### 큐\n",
    "- 선입선출\n",
    "- 먼저 들어온 데이터가 먼저 나가는 방식\n",
    "- 대기열을 이미지화하면 됨"
   ]
  },
  {
   "cell_type": "code",
   "execution_count": 3,
   "id": "12d3b254-7e28-496c-a707-3e2f80e0ebd2",
   "metadata": {},
   "outputs": [
    {
     "name": "stdout",
     "output_type": "stream",
     "text": [
      "deque([3, 7, 1, 4])\n",
      "deque([4, 1, 7, 3])\n"
     ]
    }
   ],
   "source": [
    "from collections import deque\n",
    "\n",
    "# 큐 구현을 위해 deque 라이브러리 사용\n",
    "queue = deque()\n",
    "\n",
    "# 삽입(5) - 삽입(2) - 삽입(3) - 삽입(7) - 삭제()\n",
    "# 삽입(1) - 삽입(4) - 삭제()\n",
    "queue.append(5) #list와 동일하게 작동. 오른쪽에 데이터 삽입\n",
    "queue.append(2)\n",
    "queue.append(3)\n",
    "queue.append(7)\n",
    "queue.popleft() # 왼쪽의 데이터를 삭제함\n",
    "queue.append(1)\n",
    "queue.append(4)\n",
    "queue.popleft()\n",
    "\n",
    "print(queue) #먼저 들어온 순서대로 출력\n",
    "queue.reverse()\n",
    "print(queue) #나중에 들어온 순서대로 출력"
   ]
  },
  {
   "cell_type": "markdown",
   "id": "64045292-440f-4f14-99bf-5ba57ab0e142",
   "metadata": {},
   "source": [
    "### 우선순위 큐\n",
    "- 우선순위가 가장 높은 게이터를 가장 먼저 삭제하는 자료구조\n",
    "- 데이터를 우선순위에 따라 삭제하고자 할 때 사용함\n",
    "- 예시) 물건 데이터를 자료구조에 넣었다가 가치가 높은 물건부터 꺼내서 확인해야 하는 경우\n",
    "\n",
    "#### 구현하는 방법\n",
    "- 데이터가 N개일 때,\n",
    "- 리스트를 이용하는 방법\n",
    "    - 시간 복잡도\n",
    "    - 삽입 시간은 무조건 1\n",
    "    - 삭제 시간은 N\n",
    "- 힙을 사용하는 방법\n",
    "    - 시간 복잡도\n",
    "    - 삽입 시간은 logN\n",
    "    - 삭제 시간도 logN이 보장"
   ]
  },
  {
   "cell_type": "markdown",
   "id": "105d9574-6e56-4ca8-9124-27d5df532e32",
   "metadata": {
    "jp-MarkdownHeadingCollapsed": true
   },
   "source": [
    "### 힙의 특징\n",
    "- 완전 이진 트리 자료구조의 일종\n",
    "- 항상 루트 노드를 제거함\n",
    "- 최소 힙\n",
    "    - 루트 노드가 작은 값\n",
    "    - 따라서 값이 작은 데이터가 우선적으로 제거됨\n",
    "- 최대 힙\n",
    "    - 루트 노드가 가장 큰 값\n",
    "    - 따라서 값이 큰 데이터가 우선적으로 제거됨\n",
    " \n",
    "#### 완전 이진 트리\n",
    "- 루트 노드부터 시작하여 왼쪽 자식노드, 오른쪽 자식 노드 순서대로 데이터가 차례대로 삽입되는 트리\n",
    "- (그림 참조 필요)\n",
    "- min-heapify\n",
    "    - 상향식\n",
    "    - "
   ]
  }
 ],
 "metadata": {
  "kernelspec": {
   "display_name": "Python 3 (ipykernel)",
   "language": "python",
   "name": "python3"
  },
  "language_info": {
   "codemirror_mode": {
    "name": "ipython",
    "version": 3
   },
   "file_extension": ".py",
   "mimetype": "text/x-python",
   "name": "python",
   "nbconvert_exporter": "python",
   "pygments_lexer": "ipython3",
   "version": "3.12.1"
  }
 },
 "nbformat": 4,
 "nbformat_minor": 5
}
