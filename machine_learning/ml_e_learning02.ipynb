{
  "nbformat": 4,
  "nbformat_minor": 0,
  "metadata": {
    "colab": {
      "provenance": []
    },
    "kernelspec": {
      "name": "python3",
      "display_name": "Python 3"
    },
    "language_info": {
      "name": "python"
    }
  },
  "cells": [
    {
      "cell_type": "code",
      "source": [
        "# google colab에 데이터 업로드하기\n",
        "from google.colab import files\n",
        "uploaded = files.upload()"
      ],
      "metadata": {
        "colab": {
          "base_uri": "https://localhost:8080/",
          "height": 146
        },
        "id": "7zsMoyiDevhi",
        "outputId": "95f3d6d4-27c1-4e13-ec85-314a29347676"
      },
      "execution_count": 1,
      "outputs": [
        {
          "output_type": "display_data",
          "data": {
            "text/plain": [
              "<IPython.core.display.HTML object>"
            ],
            "text/html": [
              "\n",
              "     <input type=\"file\" id=\"files-46989080-94a8-42a4-8482-41233ea7e916\" name=\"files[]\" multiple disabled\n",
              "        style=\"border:none\" />\n",
              "     <output id=\"result-46989080-94a8-42a4-8482-41233ea7e916\">\n",
              "      Upload widget is only available when the cell has been executed in the\n",
              "      current browser session. Please rerun this cell to enable.\n",
              "      </output>\n",
              "      <script>// Copyright 2017 Google LLC\n",
              "//\n",
              "// Licensed under the Apache License, Version 2.0 (the \"License\");\n",
              "// you may not use this file except in compliance with the License.\n",
              "// You may obtain a copy of the License at\n",
              "//\n",
              "//      http://www.apache.org/licenses/LICENSE-2.0\n",
              "//\n",
              "// Unless required by applicable law or agreed to in writing, software\n",
              "// distributed under the License is distributed on an \"AS IS\" BASIS,\n",
              "// WITHOUT WARRANTIES OR CONDITIONS OF ANY KIND, either express or implied.\n",
              "// See the License for the specific language governing permissions and\n",
              "// limitations under the License.\n",
              "\n",
              "/**\n",
              " * @fileoverview Helpers for google.colab Python module.\n",
              " */\n",
              "(function(scope) {\n",
              "function span(text, styleAttributes = {}) {\n",
              "  const element = document.createElement('span');\n",
              "  element.textContent = text;\n",
              "  for (const key of Object.keys(styleAttributes)) {\n",
              "    element.style[key] = styleAttributes[key];\n",
              "  }\n",
              "  return element;\n",
              "}\n",
              "\n",
              "// Max number of bytes which will be uploaded at a time.\n",
              "const MAX_PAYLOAD_SIZE = 100 * 1024;\n",
              "\n",
              "function _uploadFiles(inputId, outputId) {\n",
              "  const steps = uploadFilesStep(inputId, outputId);\n",
              "  const outputElement = document.getElementById(outputId);\n",
              "  // Cache steps on the outputElement to make it available for the next call\n",
              "  // to uploadFilesContinue from Python.\n",
              "  outputElement.steps = steps;\n",
              "\n",
              "  return _uploadFilesContinue(outputId);\n",
              "}\n",
              "\n",
              "// This is roughly an async generator (not supported in the browser yet),\n",
              "// where there are multiple asynchronous steps and the Python side is going\n",
              "// to poll for completion of each step.\n",
              "// This uses a Promise to block the python side on completion of each step,\n",
              "// then passes the result of the previous step as the input to the next step.\n",
              "function _uploadFilesContinue(outputId) {\n",
              "  const outputElement = document.getElementById(outputId);\n",
              "  const steps = outputElement.steps;\n",
              "\n",
              "  const next = steps.next(outputElement.lastPromiseValue);\n",
              "  return Promise.resolve(next.value.promise).then((value) => {\n",
              "    // Cache the last promise value to make it available to the next\n",
              "    // step of the generator.\n",
              "    outputElement.lastPromiseValue = value;\n",
              "    return next.value.response;\n",
              "  });\n",
              "}\n",
              "\n",
              "/**\n",
              " * Generator function which is called between each async step of the upload\n",
              " * process.\n",
              " * @param {string} inputId Element ID of the input file picker element.\n",
              " * @param {string} outputId Element ID of the output display.\n",
              " * @return {!Iterable<!Object>} Iterable of next steps.\n",
              " */\n",
              "function* uploadFilesStep(inputId, outputId) {\n",
              "  const inputElement = document.getElementById(inputId);\n",
              "  inputElement.disabled = false;\n",
              "\n",
              "  const outputElement = document.getElementById(outputId);\n",
              "  outputElement.innerHTML = '';\n",
              "\n",
              "  const pickedPromise = new Promise((resolve) => {\n",
              "    inputElement.addEventListener('change', (e) => {\n",
              "      resolve(e.target.files);\n",
              "    });\n",
              "  });\n",
              "\n",
              "  const cancel = document.createElement('button');\n",
              "  inputElement.parentElement.appendChild(cancel);\n",
              "  cancel.textContent = 'Cancel upload';\n",
              "  const cancelPromise = new Promise((resolve) => {\n",
              "    cancel.onclick = () => {\n",
              "      resolve(null);\n",
              "    };\n",
              "  });\n",
              "\n",
              "  // Wait for the user to pick the files.\n",
              "  const files = yield {\n",
              "    promise: Promise.race([pickedPromise, cancelPromise]),\n",
              "    response: {\n",
              "      action: 'starting',\n",
              "    }\n",
              "  };\n",
              "\n",
              "  cancel.remove();\n",
              "\n",
              "  // Disable the input element since further picks are not allowed.\n",
              "  inputElement.disabled = true;\n",
              "\n",
              "  if (!files) {\n",
              "    return {\n",
              "      response: {\n",
              "        action: 'complete',\n",
              "      }\n",
              "    };\n",
              "  }\n",
              "\n",
              "  for (const file of files) {\n",
              "    const li = document.createElement('li');\n",
              "    li.append(span(file.name, {fontWeight: 'bold'}));\n",
              "    li.append(span(\n",
              "        `(${file.type || 'n/a'}) - ${file.size} bytes, ` +\n",
              "        `last modified: ${\n",
              "            file.lastModifiedDate ? file.lastModifiedDate.toLocaleDateString() :\n",
              "                                    'n/a'} - `));\n",
              "    const percent = span('0% done');\n",
              "    li.appendChild(percent);\n",
              "\n",
              "    outputElement.appendChild(li);\n",
              "\n",
              "    const fileDataPromise = new Promise((resolve) => {\n",
              "      const reader = new FileReader();\n",
              "      reader.onload = (e) => {\n",
              "        resolve(e.target.result);\n",
              "      };\n",
              "      reader.readAsArrayBuffer(file);\n",
              "    });\n",
              "    // Wait for the data to be ready.\n",
              "    let fileData = yield {\n",
              "      promise: fileDataPromise,\n",
              "      response: {\n",
              "        action: 'continue',\n",
              "      }\n",
              "    };\n",
              "\n",
              "    // Use a chunked sending to avoid message size limits. See b/62115660.\n",
              "    let position = 0;\n",
              "    do {\n",
              "      const length = Math.min(fileData.byteLength - position, MAX_PAYLOAD_SIZE);\n",
              "      const chunk = new Uint8Array(fileData, position, length);\n",
              "      position += length;\n",
              "\n",
              "      const base64 = btoa(String.fromCharCode.apply(null, chunk));\n",
              "      yield {\n",
              "        response: {\n",
              "          action: 'append',\n",
              "          file: file.name,\n",
              "          data: base64,\n",
              "        },\n",
              "      };\n",
              "\n",
              "      let percentDone = fileData.byteLength === 0 ?\n",
              "          100 :\n",
              "          Math.round((position / fileData.byteLength) * 100);\n",
              "      percent.textContent = `${percentDone}% done`;\n",
              "\n",
              "    } while (position < fileData.byteLength);\n",
              "  }\n",
              "\n",
              "  // All done.\n",
              "  yield {\n",
              "    response: {\n",
              "      action: 'complete',\n",
              "    }\n",
              "  };\n",
              "}\n",
              "\n",
              "scope.google = scope.google || {};\n",
              "scope.google.colab = scope.google.colab || {};\n",
              "scope.google.colab._files = {\n",
              "  _uploadFiles,\n",
              "  _uploadFilesContinue,\n",
              "};\n",
              "})(self);\n",
              "</script> "
            ]
          },
          "metadata": {}
        },
        {
          "output_type": "stream",
          "name": "stdout",
          "text": [
            "Saving X_test.csv to X_test.csv\n",
            "Saving X_train.csv to X_train.csv\n",
            "Saving y_train.csv to y_train.csv\n"
          ]
        }
      ]
    },
    {
      "cell_type": "code",
      "source": [
        "import pandas as pd\n",
        "\n",
        "# 데이터 가져오기\n",
        "X_test = pd.read_csv('X_test.csv', encoding='cp949')\n",
        "X_train = pd.read_csv('X_train.csv', encoding='cp949')\n",
        "y_train= pd.read_csv('y_train.csv', encoding='cp949')\n",
        "\n",
        "print(X_test.shape, X_train.shape, y_train.shape)"
      ],
      "metadata": {
        "colab": {
          "base_uri": "https://localhost:8080/"
        },
        "id": "9vBG9esSf2_d",
        "outputId": "1465276e-fa70-4aab-bf93-1ebd9ded5a4e"
      },
      "execution_count": 23,
      "outputs": [
        {
          "output_type": "stream",
          "name": "stdout",
          "text": [
            "(2482, 10) (3500, 10) (3500, 2)\n"
          ]
        }
      ]
    },
    {
      "cell_type": "code",
      "source": [
        "# 데이터 정보 확인하기 1\n",
        "print(y_train.head(3), '\\n\\n') # 분류 문제임을 확인\n",
        "print(X_train.head(3)) # 문자열과 숫자 데이터의 혼합임을 확인"
      ],
      "metadata": {
        "colab": {
          "base_uri": "https://localhost:8080/"
        },
        "id": "x7Yo7Aoigy-X",
        "outputId": "e5b35318-4827-435a-be6f-cf6f8c580892"
      },
      "execution_count": 24,
      "outputs": [
        {
          "output_type": "stream",
          "name": "stdout",
          "text": [
            "   cust_id  gender\n",
            "0        0       0\n",
            "1        1       0\n",
            "2        2       1 \n",
            "\n",
            "\n",
            "   cust_id      총구매액     최대구매액       환불금액   주구매상품 주구매지점  내점일수   내점당구매건수  \\\n",
            "0        0  68282840  11264000  6860000.0      기타   강남점    19  3.894737   \n",
            "1        1   2136000   2136000   300000.0     스포츠   잠실점     2  1.500000   \n",
            "2        2   3197000   1639000        NaN  남성 캐주얼   관악점     2  2.000000   \n",
            "\n",
            "     주말방문비율  구매주기  \n",
            "0  0.527027    17  \n",
            "1  0.000000     1  \n",
            "2  0.000000     1  \n"
          ]
        }
      ]
    },
    {
      "cell_type": "code",
      "source": [
        "# 데이터 정보 확인하기 2\n",
        "print(X_train.info())"
      ],
      "metadata": {
        "colab": {
          "base_uri": "https://localhost:8080/"
        },
        "id": "8sbZQ9Gqhv7l",
        "outputId": "9f3fa66f-688e-42d3-de8f-2d535f5a752d"
      },
      "execution_count": 25,
      "outputs": [
        {
          "output_type": "stream",
          "name": "stdout",
          "text": [
            "<class 'pandas.core.frame.DataFrame'>\n",
            "RangeIndex: 3500 entries, 0 to 3499\n",
            "Data columns (total 10 columns):\n",
            " #   Column   Non-Null Count  Dtype  \n",
            "---  ------   --------------  -----  \n",
            " 0   cust_id  3500 non-null   int64  \n",
            " 1   총구매액     3500 non-null   int64  \n",
            " 2   최대구매액    3500 non-null   int64  \n",
            " 3   환불금액     1205 non-null   float64\n",
            " 4   주구매상품    3500 non-null   object \n",
            " 5   주구매지점    3500 non-null   object \n",
            " 6   내점일수     3500 non-null   int64  \n",
            " 7   내점당구매건수  3500 non-null   float64\n",
            " 8   주말방문비율   3500 non-null   float64\n",
            " 9   구매주기     3500 non-null   int64  \n",
            "dtypes: float64(3), int64(5), object(2)\n",
            "memory usage: 273.6+ KB\n",
            "None\n"
          ]
        }
      ]
    },
    {
      "cell_type": "code",
      "source": [
        "# 데이터 결측치 확인하기\n",
        "# print(X_train.isna().sum()) # 확인 결과 환불금액 컬럼만 결측치가 많아서 삭제함\n",
        "X_train.drop('환불금액', axis=1, inplace=True)\n",
        "print(X_train.isna().sum())"
      ],
      "metadata": {
        "colab": {
          "base_uri": "https://localhost:8080/"
        },
        "id": "vjS9nLY0hf6v",
        "outputId": "73768986-34dd-455f-976e-efe9f3ab3747"
      },
      "execution_count": 26,
      "outputs": [
        {
          "output_type": "stream",
          "name": "stdout",
          "text": [
            "cust_id    0\n",
            "총구매액       0\n",
            "최대구매액      0\n",
            "주구매상품      0\n",
            "주구매지점      0\n",
            "내점일수       0\n",
            "내점당구매건수    0\n",
            "주말방문비율     0\n",
            "구매주기       0\n",
            "dtype: int64\n"
          ]
        }
      ]
    },
    {
      "cell_type": "code",
      "source": [
        "# 문자열 데이터 값 확인하기\n",
        "print(X_train['주구매상품'].value_counts(), '\\n\\n')\n",
        "print(X_train['주구매지점'].value_counts())"
      ],
      "metadata": {
        "colab": {
          "base_uri": "https://localhost:8080/"
        },
        "id": "8fjBtMLrjTGO",
        "outputId": "42bf2490-553e-4acb-8abf-278c97225206"
      },
      "execution_count": 27,
      "outputs": [
        {
          "output_type": "stream",
          "name": "stdout",
          "text": [
            "기타        595\n",
            "가공식품      546\n",
            "농산물       339\n",
            "화장품       264\n",
            "시티웨어      213\n",
            "디자이너      193\n",
            "수산품       153\n",
            "캐주얼       101\n",
            "명품        100\n",
            "섬유잡화       98\n",
            "골프         82\n",
            "스포츠        69\n",
            "일용잡화       64\n",
            "모피/피혁      57\n",
            "육류         57\n",
            "남성 캐주얼     55\n",
            "구두         54\n",
            "건강식품       47\n",
            "차/커피       44\n",
            "피혁잡화       40\n",
            "아동         40\n",
            "축산가공       35\n",
            "주방용품       32\n",
            "셔츠         30\n",
            "젓갈/반찬      29\n",
            "주방가전       26\n",
            "트래디셔널      23\n",
            "남성정장       22\n",
            "생활잡화       15\n",
            "주류         14\n",
            "가구         10\n",
            "커리어         9\n",
            "대형가전        8\n",
            "란제리/내의      8\n",
            "식기          7\n",
            "액세서리        5\n",
            "침구/수예       4\n",
            "통신/컴퓨터      3\n",
            "보석          3\n",
            "남성 트랜디      2\n",
            "소형가전        2\n",
            "악기          2\n",
            "Name: 주구매상품, dtype: int64 \n",
            "\n",
            "\n",
            "본  점     1077\n",
            "잠실점       474\n",
            "분당점       436\n",
            "부산본점      245\n",
            "영등포점      241\n",
            "일산점       198\n",
            "강남점       145\n",
            "광주점       114\n",
            "노원점        90\n",
            "청량리점       86\n",
            "대전점        70\n",
            "미아점        69\n",
            "부평점        57\n",
            "동래점        49\n",
            "관악점        46\n",
            "인천점        34\n",
            "안양점        29\n",
            "포항점        11\n",
            "대구점         7\n",
            "센텀시티점       6\n",
            "울산점         6\n",
            "전주점         5\n",
            "창원점         4\n",
            "상인점         1\n",
            "Name: 주구매지점, dtype: int64\n"
          ]
        }
      ]
    },
    {
      "cell_type": "code",
      "source": [
        "import pandas as pd\n",
        "\n",
        "# 데이터 가져오기\n",
        "X_test = pd.read_csv('X_test.csv', encoding='cp949')\n",
        "X_train = pd.read_csv('X_train.csv', encoding='cp949')\n",
        "y_train= pd.read_csv('y_train.csv', encoding='cp949')\n",
        "\n",
        "# 데이터 결측치 확인하기\n",
        "# print(X_train.isna().sum()) # 확인 결과 환불금액 컬럼만 결측치가 많아서 삭제함\n",
        "X_train.drop('환불금액', axis=1, inplace=True)\n",
        "\n",
        "# 컬럼 분리하기\n",
        "# cust_id 분리하기\n",
        "X_train_id = X_train.pop('cust_id')\n",
        "X_test_id = X_test.pop('cust_id')\n",
        "\n",
        "# 문자 데이터와 숫자 데이터 컬럼명만 추출하기\n",
        "import numpy as np\n",
        "\n",
        "cat_cols =  X_train.select_dtypes(exclude=np.number).columns.tolist()\n",
        "num_cols = X_train.select_dtypes(include=np.number).columns.tolist()\n",
        "\n",
        "# 데이터셋 분리\n",
        "from sklearn.model_selection import train_test_split\n",
        "\n",
        "X_tr, X_val, y_tr, y_val = train_test_split(\n",
        "    X_train, y_train['gender'], # 각각 독립변수, 종속변수(타겟)\n",
        "    stratify = y_train['gender'], # 데이터 분할할 때, 각 클래스의 비율을 유지\n",
        "    test_size=0.3, # 훈련 데이터의 30%를 검증 데이터셋으로 사용\n",
        "    random_state = 240229 # 난수시드\n",
        ")"
      ],
      "metadata": {
        "id": "2kmMh9x3kL_m"
      },
      "execution_count": 35,
      "outputs": []
    },
    {
      "cell_type": "code",
      "source": [
        "print(X_test.info(), '\\n\\n')\n",
        "print(cat_cols)\n",
        "print(num_cols)"
      ],
      "metadata": {
        "colab": {
          "base_uri": "https://localhost:8080/"
        },
        "id": "xBAtc4d5psp_",
        "outputId": "cbe70907-93d2-4c75-b55e-ce0b9ab18de4"
      },
      "execution_count": 37,
      "outputs": [
        {
          "output_type": "stream",
          "name": "stdout",
          "text": [
            "<class 'pandas.core.frame.DataFrame'>\n",
            "RangeIndex: 2482 entries, 0 to 2481\n",
            "Data columns (total 9 columns):\n",
            " #   Column   Non-Null Count  Dtype  \n",
            "---  ------   --------------  -----  \n",
            " 0   총구매액     2482 non-null   int64  \n",
            " 1   최대구매액    2482 non-null   int64  \n",
            " 2   환불금액     871 non-null    float64\n",
            " 3   주구매상품    2482 non-null   object \n",
            " 4   주구매지점    2482 non-null   object \n",
            " 5   내점일수     2482 non-null   int64  \n",
            " 6   내점당구매건수  2482 non-null   float64\n",
            " 7   주말방문비율   2482 non-null   float64\n",
            " 8   구매주기     2482 non-null   int64  \n",
            "dtypes: float64(3), int64(4), object(2)\n",
            "memory usage: 174.6+ KB\n",
            "None \n",
            "\n",
            "\n",
            "['주구매상품', '주구매지점']\n",
            "['총구매액', '최대구매액', '내점일수', '내점당구매건수', '주말방문비율', '구매주기']\n"
          ]
        }
      ]
    },
    {
      "cell_type": "markdown",
      "source": [
        "## 하이퍼 파라미터 튜닝 방법\n",
        "- Grid Search vs Random Search\n",
        "    - 랜덤이 더 빠름"
      ],
      "metadata": {
        "id": "cJ9PXR5adeHo"
      }
    },
    {
      "cell_type": "code",
      "source": [
        "# 하이퍼 파라미터 그리드 설정\n",
        "param_grid = {\n",
        "    'clf__max_depth' : np.arange(3, 100, 3), # 트리의 최대 깊이. 너무 깊어지는 걸 방지, 과적합 최소화\n",
        "    'clf__min_samples_split': np.arange(10, 50, 3), # 노드 분할 최소 샘플 수, 높으면 과적합 방지 but 트리의 학습량 감소\n",
        "}\n",
        "\n",
        "# 다양한 전처리 단계를 하나의 파이프라인으로 결합\n",
        "from sklearn.preprocessing import StandardScaler, OneHotEncoder\n",
        "from sklearn.compose import ColumnTransformer\n",
        "\n",
        "column_transformer = ColumnTransformer([\n",
        "    ('scaler', StandardScaler(), num_cols),\n",
        "    ('ohd_encoder', OneHotEncoder(handle_unknown='ignore'), cat_cols)\n",
        "], remainder = 'passthrough')\n",
        "\n",
        "#\n",
        "from sklearn.pipeline import Pipeline\n",
        "from sklearn.ensemble import RandomForestClassifier\n",
        "\n",
        "pipeline = Pipeline([\n",
        "    ('preprocessing', column_transformer),\n",
        "    ('clf', RandomForestClassifier(random_state=240229))\n",
        "])\n",
        "\n",
        "# RandomSearch\n",
        "from sklearn.model_selection import RandomizedSearchCV\n",
        "from sklearn.metrics import roc_auc_score\n",
        "\n",
        "random_search = RandomizedSearchCV(\n",
        "    estimator = pipeline,\n",
        "    param_distributions = param_grid,\n",
        "    n_iter = 5,\n",
        "    scoring = 'roc_auc',\n",
        "    cv=3,\n",
        "    verbose=3,\n",
        "    n_jobs=-1\n",
        ")\n",
        "\n",
        "random_search.fit(X_tr, y_tr)"
      ],
      "metadata": {
        "colab": {
          "base_uri": "https://localhost:8080/",
          "height": 234
        },
        "id": "Th6tWHIhWrvi",
        "outputId": "12ece545-b6a5-42a1-eae4-fc19098bf589"
      },
      "execution_count": 59,
      "outputs": [
        {
          "output_type": "stream",
          "name": "stdout",
          "text": [
            "Fitting 3 folds for each of 5 candidates, totalling 15 fits\n"
          ]
        },
        {
          "output_type": "execute_result",
          "data": {
            "text/plain": [
              "RandomizedSearchCV(cv=3,\n",
              "                   estimator=Pipeline(steps=[('preprocessing',\n",
              "                                              ColumnTransformer(remainder='passthrough',\n",
              "                                                                transformers=[('scaler',\n",
              "                                                                               StandardScaler(),\n",
              "                                                                               ['총구매액',\n",
              "                                                                                '최대구매액',\n",
              "                                                                                '내점일수',\n",
              "                                                                                '내점당구매건수',\n",
              "                                                                                '주말방문비율',\n",
              "                                                                                '구매주기']),\n",
              "                                                                              ('ohd_encoder',\n",
              "                                                                               OneHotEncoder(handle_unknown='ignore'),\n",
              "                                                                               ['주구매상품',\n",
              "                                                                                '주구매지점'])])),\n",
              "                                             ('clf',\n",
              "                                              RandomForestClassifier(random_state=240229))]),\n",
              "                   n_iter=5, n_jobs=-1,\n",
              "                   param_distributions={'clf__max_depth': array([ 3,  6,  9, 12, 15, 18, 21, 24, 27, 30, 33, 36, 39, 42, 45, 48, 51,\n",
              "       54, 57, 60, 63, 66, 69, 72, 75, 78, 81, 84, 87, 90, 93, 96, 99]),\n",
              "                                        'clf__min_samples_split': array([10, 13, 16, 19, 22, 25, 28, 31, 34, 37, 40, 43, 46, 49])},\n",
              "                   scoring='roc_auc', verbose=3)"
            ],
            "text/html": [
              "<style>#sk-container-id-3 {color: black;background-color: white;}#sk-container-id-3 pre{padding: 0;}#sk-container-id-3 div.sk-toggleable {background-color: white;}#sk-container-id-3 label.sk-toggleable__label {cursor: pointer;display: block;width: 100%;margin-bottom: 0;padding: 0.3em;box-sizing: border-box;text-align: center;}#sk-container-id-3 label.sk-toggleable__label-arrow:before {content: \"▸\";float: left;margin-right: 0.25em;color: #696969;}#sk-container-id-3 label.sk-toggleable__label-arrow:hover:before {color: black;}#sk-container-id-3 div.sk-estimator:hover label.sk-toggleable__label-arrow:before {color: black;}#sk-container-id-3 div.sk-toggleable__content {max-height: 0;max-width: 0;overflow: hidden;text-align: left;background-color: #f0f8ff;}#sk-container-id-3 div.sk-toggleable__content pre {margin: 0.2em;color: black;border-radius: 0.25em;background-color: #f0f8ff;}#sk-container-id-3 input.sk-toggleable__control:checked~div.sk-toggleable__content {max-height: 200px;max-width: 100%;overflow: auto;}#sk-container-id-3 input.sk-toggleable__control:checked~label.sk-toggleable__label-arrow:before {content: \"▾\";}#sk-container-id-3 div.sk-estimator input.sk-toggleable__control:checked~label.sk-toggleable__label {background-color: #d4ebff;}#sk-container-id-3 div.sk-label input.sk-toggleable__control:checked~label.sk-toggleable__label {background-color: #d4ebff;}#sk-container-id-3 input.sk-hidden--visually {border: 0;clip: rect(1px 1px 1px 1px);clip: rect(1px, 1px, 1px, 1px);height: 1px;margin: -1px;overflow: hidden;padding: 0;position: absolute;width: 1px;}#sk-container-id-3 div.sk-estimator {font-family: monospace;background-color: #f0f8ff;border: 1px dotted black;border-radius: 0.25em;box-sizing: border-box;margin-bottom: 0.5em;}#sk-container-id-3 div.sk-estimator:hover {background-color: #d4ebff;}#sk-container-id-3 div.sk-parallel-item::after {content: \"\";width: 100%;border-bottom: 1px solid gray;flex-grow: 1;}#sk-container-id-3 div.sk-label:hover label.sk-toggleable__label {background-color: #d4ebff;}#sk-container-id-3 div.sk-serial::before {content: \"\";position: absolute;border-left: 1px solid gray;box-sizing: border-box;top: 0;bottom: 0;left: 50%;z-index: 0;}#sk-container-id-3 div.sk-serial {display: flex;flex-direction: column;align-items: center;background-color: white;padding-right: 0.2em;padding-left: 0.2em;position: relative;}#sk-container-id-3 div.sk-item {position: relative;z-index: 1;}#sk-container-id-3 div.sk-parallel {display: flex;align-items: stretch;justify-content: center;background-color: white;position: relative;}#sk-container-id-3 div.sk-item::before, #sk-container-id-3 div.sk-parallel-item::before {content: \"\";position: absolute;border-left: 1px solid gray;box-sizing: border-box;top: 0;bottom: 0;left: 50%;z-index: -1;}#sk-container-id-3 div.sk-parallel-item {display: flex;flex-direction: column;z-index: 1;position: relative;background-color: white;}#sk-container-id-3 div.sk-parallel-item:first-child::after {align-self: flex-end;width: 50%;}#sk-container-id-3 div.sk-parallel-item:last-child::after {align-self: flex-start;width: 50%;}#sk-container-id-3 div.sk-parallel-item:only-child::after {width: 0;}#sk-container-id-3 div.sk-dashed-wrapped {border: 1px dashed gray;margin: 0 0.4em 0.5em 0.4em;box-sizing: border-box;padding-bottom: 0.4em;background-color: white;}#sk-container-id-3 div.sk-label label {font-family: monospace;font-weight: bold;display: inline-block;line-height: 1.2em;}#sk-container-id-3 div.sk-label-container {text-align: center;}#sk-container-id-3 div.sk-container {/* jupyter's `normalize.less` sets `[hidden] { display: none; }` but bootstrap.min.css set `[hidden] { display: none !important; }` so we also need the `!important` here to be able to override the default hidden behavior on the sphinx rendered scikit-learn.org. See: https://github.com/scikit-learn/scikit-learn/issues/21755 */display: inline-block !important;position: relative;}#sk-container-id-3 div.sk-text-repr-fallback {display: none;}</style><div id=\"sk-container-id-3\" class=\"sk-top-container\"><div class=\"sk-text-repr-fallback\"><pre>RandomizedSearchCV(cv=3,\n",
              "                   estimator=Pipeline(steps=[(&#x27;preprocessing&#x27;,\n",
              "                                              ColumnTransformer(remainder=&#x27;passthrough&#x27;,\n",
              "                                                                transformers=[(&#x27;scaler&#x27;,\n",
              "                                                                               StandardScaler(),\n",
              "                                                                               [&#x27;총구매액&#x27;,\n",
              "                                                                                &#x27;최대구매액&#x27;,\n",
              "                                                                                &#x27;내점일수&#x27;,\n",
              "                                                                                &#x27;내점당구매건수&#x27;,\n",
              "                                                                                &#x27;주말방문비율&#x27;,\n",
              "                                                                                &#x27;구매주기&#x27;]),\n",
              "                                                                              (&#x27;ohd_encoder&#x27;,\n",
              "                                                                               OneHotEncoder(handle_unknown=&#x27;ignore&#x27;),\n",
              "                                                                               [&#x27;주구매상품&#x27;,\n",
              "                                                                                &#x27;주구매지점&#x27;])])),\n",
              "                                             (&#x27;clf&#x27;,\n",
              "                                              RandomForestClassifier(random_state=240229))]),\n",
              "                   n_iter=5, n_jobs=-1,\n",
              "                   param_distributions={&#x27;clf__max_depth&#x27;: array([ 3,  6,  9, 12, 15, 18, 21, 24, 27, 30, 33, 36, 39, 42, 45, 48, 51,\n",
              "       54, 57, 60, 63, 66, 69, 72, 75, 78, 81, 84, 87, 90, 93, 96, 99]),\n",
              "                                        &#x27;clf__min_samples_split&#x27;: array([10, 13, 16, 19, 22, 25, 28, 31, 34, 37, 40, 43, 46, 49])},\n",
              "                   scoring=&#x27;roc_auc&#x27;, verbose=3)</pre><b>In a Jupyter environment, please rerun this cell to show the HTML representation or trust the notebook. <br />On GitHub, the HTML representation is unable to render, please try loading this page with nbviewer.org.</b></div><div class=\"sk-container\" hidden><div class=\"sk-item sk-dashed-wrapped\"><div class=\"sk-label-container\"><div class=\"sk-label sk-toggleable\"><input class=\"sk-toggleable__control sk-hidden--visually\" id=\"sk-estimator-id-21\" type=\"checkbox\" ><label for=\"sk-estimator-id-21\" class=\"sk-toggleable__label sk-toggleable__label-arrow\">RandomizedSearchCV</label><div class=\"sk-toggleable__content\"><pre>RandomizedSearchCV(cv=3,\n",
              "                   estimator=Pipeline(steps=[(&#x27;preprocessing&#x27;,\n",
              "                                              ColumnTransformer(remainder=&#x27;passthrough&#x27;,\n",
              "                                                                transformers=[(&#x27;scaler&#x27;,\n",
              "                                                                               StandardScaler(),\n",
              "                                                                               [&#x27;총구매액&#x27;,\n",
              "                                                                                &#x27;최대구매액&#x27;,\n",
              "                                                                                &#x27;내점일수&#x27;,\n",
              "                                                                                &#x27;내점당구매건수&#x27;,\n",
              "                                                                                &#x27;주말방문비율&#x27;,\n",
              "                                                                                &#x27;구매주기&#x27;]),\n",
              "                                                                              (&#x27;ohd_encoder&#x27;,\n",
              "                                                                               OneHotEncoder(handle_unknown=&#x27;ignore&#x27;),\n",
              "                                                                               [&#x27;주구매상품&#x27;,\n",
              "                                                                                &#x27;주구매지점&#x27;])])),\n",
              "                                             (&#x27;clf&#x27;,\n",
              "                                              RandomForestClassifier(random_state=240229))]),\n",
              "                   n_iter=5, n_jobs=-1,\n",
              "                   param_distributions={&#x27;clf__max_depth&#x27;: array([ 3,  6,  9, 12, 15, 18, 21, 24, 27, 30, 33, 36, 39, 42, 45, 48, 51,\n",
              "       54, 57, 60, 63, 66, 69, 72, 75, 78, 81, 84, 87, 90, 93, 96, 99]),\n",
              "                                        &#x27;clf__min_samples_split&#x27;: array([10, 13, 16, 19, 22, 25, 28, 31, 34, 37, 40, 43, 46, 49])},\n",
              "                   scoring=&#x27;roc_auc&#x27;, verbose=3)</pre></div></div></div><div class=\"sk-parallel\"><div class=\"sk-parallel-item\"><div class=\"sk-item\"><div class=\"sk-label-container\"><div class=\"sk-label sk-toggleable\"><input class=\"sk-toggleable__control sk-hidden--visually\" id=\"sk-estimator-id-22\" type=\"checkbox\" ><label for=\"sk-estimator-id-22\" class=\"sk-toggleable__label sk-toggleable__label-arrow\">estimator: Pipeline</label><div class=\"sk-toggleable__content\"><pre>Pipeline(steps=[(&#x27;preprocessing&#x27;,\n",
              "                 ColumnTransformer(remainder=&#x27;passthrough&#x27;,\n",
              "                                   transformers=[(&#x27;scaler&#x27;, StandardScaler(),\n",
              "                                                  [&#x27;총구매액&#x27;, &#x27;최대구매액&#x27;, &#x27;내점일수&#x27;,\n",
              "                                                   &#x27;내점당구매건수&#x27;, &#x27;주말방문비율&#x27;,\n",
              "                                                   &#x27;구매주기&#x27;]),\n",
              "                                                 (&#x27;ohd_encoder&#x27;,\n",
              "                                                  OneHotEncoder(handle_unknown=&#x27;ignore&#x27;),\n",
              "                                                  [&#x27;주구매상품&#x27;, &#x27;주구매지점&#x27;])])),\n",
              "                (&#x27;clf&#x27;, RandomForestClassifier(random_state=240229))])</pre></div></div></div><div class=\"sk-serial\"><div class=\"sk-item\"><div class=\"sk-serial\"><div class=\"sk-item sk-dashed-wrapped\"><div class=\"sk-label-container\"><div class=\"sk-label sk-toggleable\"><input class=\"sk-toggleable__control sk-hidden--visually\" id=\"sk-estimator-id-23\" type=\"checkbox\" ><label for=\"sk-estimator-id-23\" class=\"sk-toggleable__label sk-toggleable__label-arrow\">preprocessing: ColumnTransformer</label><div class=\"sk-toggleable__content\"><pre>ColumnTransformer(remainder=&#x27;passthrough&#x27;,\n",
              "                  transformers=[(&#x27;scaler&#x27;, StandardScaler(),\n",
              "                                 [&#x27;총구매액&#x27;, &#x27;최대구매액&#x27;, &#x27;내점일수&#x27;, &#x27;내점당구매건수&#x27;, &#x27;주말방문비율&#x27;,\n",
              "                                  &#x27;구매주기&#x27;]),\n",
              "                                (&#x27;ohd_encoder&#x27;,\n",
              "                                 OneHotEncoder(handle_unknown=&#x27;ignore&#x27;),\n",
              "                                 [&#x27;주구매상품&#x27;, &#x27;주구매지점&#x27;])])</pre></div></div></div><div class=\"sk-parallel\"><div class=\"sk-parallel-item\"><div class=\"sk-item\"><div class=\"sk-label-container\"><div class=\"sk-label sk-toggleable\"><input class=\"sk-toggleable__control sk-hidden--visually\" id=\"sk-estimator-id-24\" type=\"checkbox\" ><label for=\"sk-estimator-id-24\" class=\"sk-toggleable__label sk-toggleable__label-arrow\">scaler</label><div class=\"sk-toggleable__content\"><pre>[&#x27;총구매액&#x27;, &#x27;최대구매액&#x27;, &#x27;내점일수&#x27;, &#x27;내점당구매건수&#x27;, &#x27;주말방문비율&#x27;, &#x27;구매주기&#x27;]</pre></div></div></div><div class=\"sk-serial\"><div class=\"sk-item\"><div class=\"sk-estimator sk-toggleable\"><input class=\"sk-toggleable__control sk-hidden--visually\" id=\"sk-estimator-id-25\" type=\"checkbox\" ><label for=\"sk-estimator-id-25\" class=\"sk-toggleable__label sk-toggleable__label-arrow\">StandardScaler</label><div class=\"sk-toggleable__content\"><pre>StandardScaler()</pre></div></div></div></div></div></div><div class=\"sk-parallel-item\"><div class=\"sk-item\"><div class=\"sk-label-container\"><div class=\"sk-label sk-toggleable\"><input class=\"sk-toggleable__control sk-hidden--visually\" id=\"sk-estimator-id-26\" type=\"checkbox\" ><label for=\"sk-estimator-id-26\" class=\"sk-toggleable__label sk-toggleable__label-arrow\">ohd_encoder</label><div class=\"sk-toggleable__content\"><pre>[&#x27;주구매상품&#x27;, &#x27;주구매지점&#x27;]</pre></div></div></div><div class=\"sk-serial\"><div class=\"sk-item\"><div class=\"sk-estimator sk-toggleable\"><input class=\"sk-toggleable__control sk-hidden--visually\" id=\"sk-estimator-id-27\" type=\"checkbox\" ><label for=\"sk-estimator-id-27\" class=\"sk-toggleable__label sk-toggleable__label-arrow\">OneHotEncoder</label><div class=\"sk-toggleable__content\"><pre>OneHotEncoder(handle_unknown=&#x27;ignore&#x27;)</pre></div></div></div></div></div></div><div class=\"sk-parallel-item\"><div class=\"sk-item\"><div class=\"sk-label-container\"><div class=\"sk-label sk-toggleable\"><input class=\"sk-toggleable__control sk-hidden--visually\" id=\"sk-estimator-id-28\" type=\"checkbox\" ><label for=\"sk-estimator-id-28\" class=\"sk-toggleable__label sk-toggleable__label-arrow\">remainder</label><div class=\"sk-toggleable__content\"><pre></pre></div></div></div><div class=\"sk-serial\"><div class=\"sk-item\"><div class=\"sk-estimator sk-toggleable\"><input class=\"sk-toggleable__control sk-hidden--visually\" id=\"sk-estimator-id-29\" type=\"checkbox\" ><label for=\"sk-estimator-id-29\" class=\"sk-toggleable__label sk-toggleable__label-arrow\">passthrough</label><div class=\"sk-toggleable__content\"><pre>passthrough</pre></div></div></div></div></div></div></div></div><div class=\"sk-item\"><div class=\"sk-estimator sk-toggleable\"><input class=\"sk-toggleable__control sk-hidden--visually\" id=\"sk-estimator-id-30\" type=\"checkbox\" ><label for=\"sk-estimator-id-30\" class=\"sk-toggleable__label sk-toggleable__label-arrow\">RandomForestClassifier</label><div class=\"sk-toggleable__content\"><pre>RandomForestClassifier(random_state=240229)</pre></div></div></div></div></div></div></div></div></div></div></div></div>"
            ]
          },
          "metadata": {},
          "execution_count": 59
        }
      ]
    },
    {
      "cell_type": "code",
      "source": [
        "def get_score(model, X_tr, X_val, y_tr, y_val):\n",
        "    tr_pred = model.predict(X_tr)\n",
        "    val_pred = model.predict(X_val)\n",
        "    tr_score = roc_auc_score(y_tr, tr_pred)\n",
        "    val_score = roc_auc_score(y_val, val_pred)\n",
        "    return f'train: {tr_score}, validation: {val_score}'\n",
        "\n",
        "get_score(random_search, X_tr, X_val, y_tr, y_val)"
      ],
      "metadata": {
        "colab": {
          "base_uri": "https://localhost:8080/",
          "height": 35
        },
        "id": "BKw2RwvFy9Dz",
        "outputId": "255b035a-0030-486c-f113-582f325f62d3"
      },
      "execution_count": 60,
      "outputs": [
        {
          "output_type": "execute_result",
          "data": {
            "text/plain": [
              "'train: 0.7386382277062566, validation: 0.5872548072277515'"
            ],
            "application/vnd.google.colaboratory.intrinsic+json": {
              "type": "string"
            }
          },
          "metadata": {},
          "execution_count": 60
        }
      ]
    },
    {
      "cell_type": "code",
      "source": [
        "final_preds = random_search.predict(X_test)\n",
        "result = pd.DataFrame({\n",
        "    'ID' : X_test_id,\n",
        "    'pred' : final_preds\n",
        "})\n",
        "print(result.head(3))"
      ],
      "metadata": {
        "colab": {
          "base_uri": "https://localhost:8080/"
        },
        "id": "d5-jranB0Lay",
        "outputId": "65c8c931-6573-4685-aabc-e934587ae19b"
      },
      "execution_count": 63,
      "outputs": [
        {
          "output_type": "stream",
          "name": "stdout",
          "text": [
            "     ID  pred\n",
            "0  3500     1\n",
            "1  3501     0\n",
            "2  3502     0\n"
          ]
        }
      ]
    }
  ]
}